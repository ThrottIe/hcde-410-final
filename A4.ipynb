{
 "cells": [
  {
   "cell_type": "markdown",
   "id": "2961d9ff-f8db-4f54-9898-7e173f238086",
   "metadata": {},
   "source": [
    "**Motivation**"
   ]
  },
  {
   "cell_type": "markdown",
   "id": "e0b4e454-458a-4d82-8676-ea8eac3ed380",
   "metadata": {},
   "source": [
    "Crypocurrency is a topic that is important to discuss. With the increase in companies accepting cryptocurrency as payment, it is becoming more integral to people's lives. It are fascinating since it is not based on anything physical and relies purely on algorithms and mathematics. Thus, I want to be able to analyze BitCoin and other currencies price data and contextualize it. \n",
    "\n",
    "This project would be interesting to me as I feel like my knowledge on the subject is low. However, I want to utilize data analysis techniques in this class (and through mathematical knowledge) to learn more. The initial goal is simply because I didn't know which topic to focus on. However, I decided on it because of my mathematical interests and hoping to apply a human centered perspective to them. This means that I will be analyzing price ranges, the origin of each currency, the type of coin, and theory behind design. In doing this, I will be able to understand how crypotrading works and recognize any possible negatives (like bias if it exists) in the crypto algorithms. \n",
    "\n",
    "In this project, I plan to shed more light on the shortcomings of cryptocurrency. Due to its anonimity, there is not a lot known about how these systems are implemented and how it impacts certain groups of individuals. In this project, I hope to uncover more about that impact and how people in privaleged groups can take advantage of the system (market manipulation from companies). Cryptocurrency is somewhat unregulated and it results in a lot of actions that may seem as \"illegal\" be fine (Elon Musk and Doge coin for example). Aside from the data sets listed below, I plan to use scholarly articles to explain how the cryptocurrency design can have a human-centered purpose."
   ]
  },
  {
   "cell_type": "markdown",
   "id": "c7247fa0-13aa-42f5-9336-ec9ae296c1c3",
   "metadata": {},
   "source": [
    "**Data Analysis**"
   ]
  },
  {
   "cell_type": "markdown",
   "id": "b4abce81-d95f-4345-8718-b6b29cd5dde2",
   "metadata": {},
   "source": [
    "https://coincodex.com/crypto/bitcoin/historical-data/ \n",
    "\n",
    "https://coincodex.com/crypto/solana/\n",
    "\n",
    "https://coincodex.com/crypto/ethereum/\n",
    "\n",
    "https://coincodex.com/crypto/dogecoin/"
   ]
  },
  {
   "cell_type": "markdown",
   "id": "a6df9bdf-15f4-4711-bae5-8b91ec409fe3",
   "metadata": {},
   "source": [
    "The data set contains the historic price of the respective cryptocurrency. Note that as of now, I have not finalized all the cryptocurrencies I wish to analyze (aside from bitcoin and dogecoin). You are able to export the data sets as CSV files which is represented as several columns of information about its low,high, and market cap. "
   ]
  },
  {
   "cell_type": "markdown",
   "id": "23bee7df-33e9-44bd-9e95-7c426ab9f473",
   "metadata": {},
   "source": [
    "Licenses and terms of use https://coincodex.com/page/terms-of-service/"
   ]
  },
  {
   "cell_type": "markdown",
   "id": "08da240e-c413-4aeb-a3f7-49039ea7fd2b",
   "metadata": {},
   "source": [
    "I feel as though there is not a significant number of ethical concerns to be had with the data itself. However, I do plan to search up the origin and theory of a type of coin which is where I might run into these problems. For example, it is possible that if I looked at a lesser known cryptocurrency, I may release information that the company doesn't want to be released (i.e, conflict with the licensing agreements). I only listed one terms of service page for know but I need to learn more about what is considered fair use. "
   ]
  },
  {
   "cell_type": "markdown",
   "id": "c447d881-85eb-4c09-be99-8cf98e34a590",
   "metadata": {},
   "source": [
    "**Unknowns and Dependencies**"
   ]
  },
  {
   "cell_type": "markdown",
   "id": "32498b77-ab66-46ed-a50e-dd17b4af784c",
   "metadata": {},
   "source": [
    "This project proposal was a bit last minute (not gonna deny I started it a bit later). Nevertheless, I would do something along the lines of crypto. I do feel like the data set might change if I find a better source. Aside from that, everything should remain constant. I will keep the staff informed about the decisions of the data sets. I do feel like a finished project is feasible by the end of the quarter."
   ]
  },
  {
   "cell_type": "markdown",
   "id": "44dfd76a-c582-4a89-b677-f64f033fd4d7",
   "metadata": {},
   "source": [
    "**Resarch Questions**\n"
   ]
  },
  {
   "cell_type": "markdown",
   "id": "a79d855c-22ee-4a1e-967a-b81bf72f8407",
   "metadata": {},
   "source": [
    "- What impact does the cryptocurrency system have on marginalized groups in the United States?\n",
    "- How does the price variation of cryptocurrency relate to contextual events that were occuring at the time?\n",
    "- Does the algorithm behind specific cryptocurrencies target more privaleged groups? Are people in a position of power able to take advantage of such a design?\n",
    "- What mathematical models are companies using to create cryptosystems?\n",
    "- How does encryption and the anonimity of cryptocurrency impact the tech industry?"
   ]
  },
  {
   "cell_type": "markdown",
   "id": "8247e789-05a1-42bb-afd7-22bcae7faa17",
   "metadata": {},
   "source": [
    "**Background information**"
   ]
  },
  {
   "cell_type": "markdown",
   "id": "52a30308-dd56-4a27-bb9c-6fd51cc2b6d4",
   "metadata": {},
   "source": [
    "Introduction to cryptosystems and Bitcoin, risk factors.\n",
    "\n",
    "-https://onlinelibrary.wiley.com/doi/book/10.1002/9781119019138\n",
    "\n",
    "-https://repository.upenn.edu/cgi/viewcontent.cgi?article=1133&context=wharton_research_scholars\n",
    "\n",
    "-https://heinonline.org/HOL/LandingPage?handle=hein.journals/arz58&div=18&id=&page=\n"
   ]
  },
  {
   "cell_type": "markdown",
   "id": "f3c402eb-695a-44a0-a40f-1e2defa860f7",
   "metadata": {},
   "source": [
    "There are many articles that describe cryptosystems, cryptocurrency industry and laws governing them. Finding background information about this topic is intuitive but finding the proper data set to analyze is the hard part.  "
   ]
  },
  {
   "cell_type": "markdown",
   "id": "a9828f77-90d0-454e-bb88-2c53647b0e2a",
   "metadata": {},
   "source": [
    "**Analytic Methods**"
   ]
  },
  {
   "cell_type": "markdown",
   "id": "e95c6764-0f8e-41ee-8175-9e996b671e15",
   "metadata": {},
   "source": [
    "- Statistical analysis through least-squares-regression (via R-Studio on .csv data sets)\n",
    "- Implementing NumPy modules (in Python) to find trends in data sets.\n",
    "- Martingale and Monte-carlo simulations run via PyCharm.\n",
    "- Theoretical dynamic system analysis.\n",
    "- Reading over academic articles relating to research questions"
   ]
  },
  {
   "cell_type": "markdown",
   "id": "492d0777-1e16-4225-8f1b-14ac80725e76",
   "metadata": {},
   "source": [
    "**Presenting findings**"
   ]
  },
  {
   "cell_type": "markdown",
   "id": "1058bab2-2b8f-4641-aa05-d21bdf2f290c",
   "metadata": {},
   "source": [
    "- Academic style report (using overleaf.com LaTeX renderer)\n",
    "- Line graphs showing price trends, with contexualization\n",
    "- Time series graphs"
   ]
  },
  {
   "cell_type": "markdown",
   "id": "683c29d5-dfeb-4143-abf9-717252ecdfd5",
   "metadata": {},
   "source": [
    "**Justification**"
   ]
  },
  {
   "cell_type": "markdown",
   "id": "6ad4a338-719d-40d8-8fe9-10366da4d93a",
   "metadata": {},
   "source": [
    "One problem with my original proposal was that I did not communicate what important topics can be extracted from my analysis. By this, I mean what NEW information could I provide by analyzing data sets. My initial assumption was to simply look at price-trend data but this is not enough to make any kind of conclusion. For example, how could looking at price range tell us anything about impacting groups of individuals? Instead of looking strictly at the numbers, I want to apply a more \"human-centered\" perspective to the analysis. I'm hoping that the research questions and revised background addressed this concern.\n",
    "\n",
    "For this project, there is a lot of theory that I need to go through because of my lack of background in cryptocurrency. Thus, a majority of the project will be spent on reading academic articles that are listed previously.  The statistical analysis consists of opening .csv files in R-Studio and utilizing the functions to get meaningful information. This information will be used with contextual analysis to try and address the research questions relating to the impact of cryptocurrency on marginalized groups in the community. I also wish to implement these modules in PyCharm which would allow for detailed visualizations. The theoretical dynamic system analysis comes from being able to communicate information about the equations and mathematical systems that companies use in their cryptosystem construction. In regards to the analytic methods, I have background in probability theory that I wish to use to simulate possible price trajectories for the future (not sure if I want to go in this direction). The Martingale and Monte-carlo simulations are bit of a stretch-goal which I hope to elaborate on when I finish the other parts of the project."
   ]
  },
  {
   "cell_type": "markdown",
   "id": "9adb55d8-4e76-4371-86d6-841feb8efe9b",
   "metadata": {},
   "source": [
    "To summarize, most of the analysis is done by reading academic articles and utilizing the information in them to answer the question of how we can use the human-centered perspective to fix some of the shortcomings of the cryptocurrency industry"
   ]
  },
  {
   "cell_type": "code",
   "execution_count": null,
   "id": "d4a7eca8-a189-459b-9caa-b0f5fab58eea",
   "metadata": {},
   "outputs": [],
   "source": []
  }
 ],
 "metadata": {
  "kernelspec": {
   "display_name": "Python 3",
   "language": "python",
   "name": "python3"
  },
  "language_info": {
   "codemirror_mode": {
    "name": "ipython",
    "version": 3
   },
   "file_extension": ".py",
   "mimetype": "text/x-python",
   "name": "python",
   "nbconvert_exporter": "python",
   "pygments_lexer": "ipython3",
   "version": "3.8.8"
  }
 },
 "nbformat": 4,
 "nbformat_minor": 5
}
