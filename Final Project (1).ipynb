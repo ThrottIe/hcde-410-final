{
 "cells": [
  {
   "cell_type": "markdown",
   "id": "4e5b8019-7840-4af4-835e-ece68ba41fbf",
   "metadata": {
    "tags": []
   },
   "source": [
    "# Introduction"
   ]
  },
  {
   "cell_type": "markdown",
   "id": "ca0b6b49-79fa-426d-be4e-b906aa9cbc52",
   "metadata": {},
   "source": [
    "Crypocurrency is a topic that is important to discuss. With the increase in companies accepting cryptocurrency as payment, it is becoming more integral to people's lives. Due to its decentralized and anonymous nature, it eliminates the need for a governing body to dictate its value and relies purely on supply and demand (Farrel, 2015). When Bitcoin was introduced in 2009, one of its greatest benefits was that it employed a peer-to-peer transaction system that relied on cryptographic proof instead of \"trust\" (Farrel, 2015). By doing this, Bitcoin replaced human actions with mathematical algorithms. However, this system gave to rise to new problems associated with double spending and coinage protection, topics that are addressed in the background information section. Since the cryptocurrency industry is relatively new and interest has recently increased, there is little research into how groups are able to take advantage of it compared to establishing how the coin works. Furthermore, there exists many different coin varieties that employ different algorithms which significantly increases the scope of what is possible to research. In this project, I will focus on systems (BitCoin and DogeCoin) that have existed for many years and have a large cultural impact. "
   ]
  },
  {
   "cell_type": "markdown",
   "id": "48216a23-7eb8-4f98-8bdc-50e2ab800849",
   "metadata": {},
   "source": [
    "### Personal Motivation"
   ]
  },
  {
   "cell_type": "markdown",
   "id": "f7704a46-f9aa-418e-b27d-ac6b1e03951f",
   "metadata": {},
   "source": [
    "The initial motivation for proposing this project comes from my lack of previous knowledge on this issue. I decided on cryptocurrency because I wished to learn more about digital transactions, hashing algorithms and cryptography systems. In quarantine, I was heavily invested in mathematical theory but did not focus on applying a human centered perspective to what I was learning. This class has allowed me to see that data ethics is heavily important and that replacing human actions with algorithms isn't enough to remove prejudices and biases that were present before. Hence, in addition to investigating how cryptosystems work, I intend to address the question of whether having a privalged position in society allows you to take advantage of the system\n",
    "\n",
    "Due to its anonimity, there is little known about how these systems are implemented and how it impacts certain groups of individuals. In this project, I hope to uncover more about that impact and hope to uncover possible market manipulation and advantages that are given to certain Miners over others. Futhermore, the cryptocurrency industry is somewhat unregulated and crypto transactions have been used for malicious actions as a result of its anonimity. \n",
    "***"
   ]
  },
  {
   "cell_type": "markdown",
   "id": "5de4ffa9-f8bd-474f-90d9-77c1fa6337fc",
   "metadata": {},
   "source": [
    "# Background Information"
   ]
  },
  {
   "cell_type": "markdown",
   "id": "0935c1ba-d16d-4eff-9a8b-f08525cc6f96",
   "metadata": {},
   "source": [
    "### What is Bitcoin?"
   ]
  },
  {
   "cell_type": "markdown",
   "id": "932d9024-6f2b-45fe-b8df-d70bd63df659",
   "metadata": {},
   "source": [
    "In 2009, Satoshi Nakamoto developed the first ever decentralized cryptocurrency, a virtual method of currency exchange that functions similarly to standard currency but eliminates the need for a trusted central authority (Farrel, 2015). By getting rid of this Hierarchy, individuals and business perform transactions on a peer-to-peer network that works through digital signatures (Farrel, 2015). "
   ]
  },
  {
   "cell_type": "markdown",
   "id": "a70e1eef-77c3-4408-94ea-3a32b0185589",
   "metadata": {},
   "source": [
    "### How is it secure?"
   ]
  },
  {
   "cell_type": "markdown",
   "id": "d685b09b-e7c3-46f0-8a2a-4663ddc466a0",
   "metadata": {},
   "source": [
    "Bitcoin was developed with the intention of replacing physical objects with a \"computer file\" (Velde, 2013). It functions on the same principles as currency- exchange something of value for goods and services. However, for a physical transaction, there is a guarantee that you are giving the money to another paty and that you are receiving something in return (ignoring the issue of counterfeiting). How can we guarentee that if we exchange Bitcoin, one party is guarenteed to receive it? Futhermore, digital signatures can easily be duplicated on a computer so how are we able to guarentee that double-spending does not occur? To prevent this, Bitcoin can only be spent and received after they have been publicly recorded in a ledge, known as the \"block chain\". To transfer a coin, the transcation is first recorded in a public ledger, where a new signature is made by combining the time stamp with the digital signatures of each party (Farrel, 2015). This new signature represents the path that a coin has taken in the network and is then broadcasted to all nodes in the blockchain.  \n",
    "\n",
    "To be more precise, let Alice be the owner of a Bitcoin which is essentially a string of 1s and 0s that is stored in a physical hard drive (called the \"wallet\")  (Velde, 2013). She wishes to send this coin to Bob who also has a wallet on his device (Note that these \"wallets\" are managed by an application the computer) (Velde, 2013). Then Alice's application broadcastes to a network of nodes indicating that there is a proposed transaction between Alice and Bob. Then the \"Miners\" gather the proposed transaction and attempt to add it to the block chain, which makes the transfer valid. The key for preventing fraud is to ensure that adding to the block chain is \"difficult\". As an analogy to the physical medium, think of this as saying when a merchant transfers a precious metal, it is clear that the merchant didn't \"fake\" it because of the amount of costly resources it takes to acquire it. However, it is very easy to check that it is indeed a precious metal. For Bitcoin, the process is similar but utilizes a **hash function**, a function that takes in text and numbers and maps it to a fixed integer. A **Miner** solves the problem (Velde, 2013):\n",
    "\n",
    "**Given the current blockchain $x$, a new (proposed) block $y$, a hashing function $f$ a fixed value $\\alpha$, find an $n$ s.t $f(x,y,n) <= \\alpha$**\n",
    "\n",
    "\n",
    "The security of this process hinges on the fact that it is very difficult to find $n$ given only $x,y,f, \\alpha$ but it is very easy to check that for a given $n$, $f(x,y,n) <= \\alpha$ holds. To address the issue of double spending, finding $n$ for a given new addition $y$ verifies whether no previous bitcoin transaction involving $y$ existed. When $y$ is added to the block chain $x$, the transaction becomes official and the bitcoin has been transferred to Bob. "
   ]
  },
  {
   "cell_type": "markdown",
   "id": "dbbb52b1-b32f-481c-8354-54123925f35b",
   "metadata": {},
   "source": [
    "### Rewards"
   ]
  },
  {
   "cell_type": "markdown",
   "id": "50745871-7f1a-43fd-b45c-22c93631166b",
   "metadata": {},
   "source": [
    "When the first miner succesfully makes an addition to the block chain, the message is broadcasted to the Blockchain and the miner receives $N$ new bitcoin attributed to it, a reward for the resources used. The Bitcoin protocol keeps the hashing function constant but changes $\\alpha$ and $N$ over time, depending on how many new nodes (or miners) are added to the blockchain. In the case of Bitcoin, the Blockchain is public so any individual with the proper hardware can send transactions or become a miner (Wikipedia). The reason for providing these rewards is because mining requires high energy consumption and has been critized for being very \"inefficient\". "
   ]
  },
  {
   "cell_type": "markdown",
   "id": "00e36a6b-b262-435f-bd89-689833158bb7",
   "metadata": {},
   "source": [
    "### Arms race"
   ]
  },
  {
   "cell_type": "markdown",
   "id": "5d603b84-42b1-4159-b196-0377c120e642",
   "metadata": {},
   "source": [
    "As stated before, the process of finding $n$ is challenging and can only be done through exhaustive checking. Specifically, solving the mathematical equations comes from constantly running operations on a device until a solution is found. In the beginning, users utilized the CPU but as time went on, the same functions could be run more efficiently on GPUs (Farrel, 2015). Think of mining as a single device that runs constantly and keeps running a hash every second, similar to filling out a lottery ticket until you get a winning ticket. Due to this incentive, GPUs have been very hard to acquire (Uzman, 2021). "
   ]
  },
  {
   "cell_type": "markdown",
   "id": "a2c626d3-7f46-44c8-9ee4-b382d8e844dd",
   "metadata": {},
   "source": [
    "### What is DogeCoin?"
   ]
  },
  {
   "cell_type": "markdown",
   "id": "b78fa420-3cdd-46df-af0c-4d8fc72a5152",
   "metadata": {},
   "source": [
    "With the advent of BitCoin, numerous different cryptocurrencies have been introduced, utilizing the same model of peer-to-peer transactions without the need of a central authority. An unusual example of this is DogeCoin, a cryptocurrency that has recently been in the news due its large monetary growth. As a start, Doge is an internet meme that was created around 2010 and the coin was designed to initially be a joke (Young, 2018). Though it still has the peer-to-peer model, it has fundamental differences from BitCoin. For once, the circulation of coins is significantly larger than Bitcoin- around 300 billion. Its monetary value per unit is also significantly less and implements a different algorithm for deriving its keys (Young, 2018). DogeCoin is an interesting case of demand heavily increasing its value, with numerous individuals and companies profiting heavily off it. "
   ]
  },
  {
   "cell_type": "markdown",
   "id": "ec7fcc45-185b-4f98-8a77-feaf22ad9027",
   "metadata": {},
   "source": [
    "***"
   ]
  },
  {
   "cell_type": "markdown",
   "id": "0422c297-a924-46b2-b7e9-6420769d9c5b",
   "metadata": {},
   "source": [
    "# Research Questions and Hypothesis"
   ]
  },
  {
   "cell_type": "markdown",
   "id": "d805aaec-c396-4ec4-a02e-465bbd3580d3",
   "metadata": {},
   "source": [
    "Now that the proper background knowledge has been presented, we wish to formulate a hypothesis that relates to how certain groups of people are impacted by cryptocurrency over others. Because BitCoin uses a public Blockchain, there is no restriction on who is able to perform a transaction or  become a miner. This accessibility is an area that is important to look at given the large monetary value that these currencies have now attained. Though the claim is that anyone can be apart of the group, acquiring the necessary hardware can be a challenge. Furthermore, digital coins are not immune to fraud and there is the potential for large amounts of money to be lost (Mt. Gox as an example).\n",
    "\n",
    "It is also important to note that there are many different cryptocurrencies that exist so it is best to focus on the most well-known blockchain (Bitcoin) and see if the findings can be extrapolated to other systems. The preliminary research questions from the plan were:"
   ]
  },
  {
   "cell_type": "markdown",
   "id": "fd73a824-2923-4cc5-9c18-720115122b01",
   "metadata": {},
   "source": [
    "- What impact does the cryptocurrency system have on minority groups in the United States?\n",
    "- Does the algorithm behind specific cryptocurrencies target more privaleged groups? Are people in a position of power able to take advantage of such a design?\n",
    "- What mathematical models are companies using to create cryptosystems?\n",
    "- How does encryption and the anonimity of cryptocurrency impact the tech industry?"
   ]
  },
  {
   "cell_type": "markdown",
   "id": "f3330fd1-b66d-4f39-bda4-ece9dcc7630d",
   "metadata": {},
   "source": [
    "In the background research, the 2nd and 3rd questions have been addressed and there are numerous studies regarding the mathematical models and encryption systems that companies use. Thus, we can focus less on the theory and more on the availability of cryptocurrency to the user. In regard to the second question, this would be difficult to address because it involves identifying what we mean by \"privaleged groups\" and also what it means to design biased cryptocurrency. Thus, we can reformulate the first question in a way that allows us to create a reasonable hypothesis."
   ]
  },
  {
   "cell_type": "markdown",
   "id": "a5c4baf7-84d1-4a39-885f-de25d7ad289d",
   "metadata": {},
   "source": [
    "#### Research Question"
   ]
  },
  {
   "cell_type": "markdown",
   "id": "ca43301d-3927-425f-b255-8c2b9ee2568f",
   "metadata": {},
   "source": [
    "**How does the socio-economic status of an individual in the United States impact their ability to receive economic benefits from BitCoin?**"
   ]
  },
  {
   "cell_type": "markdown",
   "id": "243becce-c2de-46c1-ae48-8543c5e3419e",
   "metadata": {},
   "source": [
    "#### Hypothesis"
   ]
  },
  {
   "cell_type": "markdown",
   "id": "5b9902bb-fe07-4ed3-8e91-f8b865cc6616",
   "metadata": {},
   "source": [
    "**A person with higher socio-economic status will be able to receive more benefits from transactions of Bitcoins as well as ready access to become a miner.**"
   ]
  },
  {
   "cell_type": "markdown",
   "id": "b4abce81-d95f-4345-8718-b6b29cd5dde2",
   "metadata": {},
   "source": [
    "***"
   ]
  },
  {
   "cell_type": "markdown",
   "id": "a577dd2d-f9f9-4a29-b1a8-a96b3dd44b52",
   "metadata": {},
   "source": [
    "# Methadology"
   ]
  },
  {
   "cell_type": "markdown",
   "id": "12f9a98c-19cf-4bd3-8099-6f4942380f0e",
   "metadata": {},
   "source": [
    "At the start of the project, much of the research came from reading academic articles about the cryptocurrency industry and understanding how BitCoin worked. I was heavily invested in learning about mathematical models to the point where I realized that I was not properly incorporating the techniques I learned in HCDE 410 to conduct human-centered research. Nevetheless, I was able to restructure the project and come up with a plan:"
   ]
  },
  {
   "cell_type": "markdown",
   "id": "cf4af328-ccb1-425b-89bc-ea7a8e259e83",
   "metadata": {},
   "source": [
    "### Part 1: Find articles that address the growth of cryptocurrency industry"
   ]
  },
  {
   "cell_type": "markdown",
   "id": "dedda844-55c3-4d92-91c6-9e02c5f77c3f",
   "metadata": {},
   "source": [
    "### Part 2: Find data about price of GPUs, cryptocurrency over time"
   ]
  },
  {
   "cell_type": "markdown",
   "id": "8b560332-7955-4893-b5d2-5da0e4c33a87",
   "metadata": {},
   "source": [
    "### Part 3: Find articles about the acessibility of BitCoin"
   ]
  },
  {
   "cell_type": "markdown",
   "id": "9790c8c0-d3f5-4ba3-9603-bf85ac4a15c7",
   "metadata": {},
   "source": [
    "### Part 4: Data analysis techniques"
   ]
  },
  {
   "cell_type": "markdown",
   "id": "ef296e86-41bb-40ed-acf6-9e5a35d6fd1e",
   "metadata": {},
   "source": [
    "***"
   ]
  },
  {
   "cell_type": "markdown",
   "id": "e03bd228-daa2-4b84-9dca-cef652a8b190",
   "metadata": {},
   "source": [
    "# Findings"
   ]
  },
  {
   "cell_type": "markdown",
   "id": "0e2fc205-0faf-4efd-85eb-8f13d8297353",
   "metadata": {},
   "source": [
    "### Easy access to transactions and mining"
   ]
  },
  {
   "cell_type": "markdown",
   "id": "04872439-36bd-4f04-b35a-8cb978e24326",
   "metadata": {},
   "source": [
    "This finding is primarily in relation to BitCoin. In my research, I wanted to understand whether someone who has little background knowledge in cryptocurrency is able to easily become apart of the mining process. My initial perception was that Bitcoin mining required immense mathematical background and that only those with a upper-level education background were able to find success with it. However, this turned out to be a false assumption. \n",
    "\n",
    "For one, a miner is not directly interacting with the code and mathematics behind mining. Rather, they are installing an application on their device to run constantly and mine the bitcoin (Bitcoinmining, 2017). Furthermore, there exists numerous cloud computing services that run the algorithm in the background and are easy to install on your device  (Bitcoinmining, 2017). Once you have installed the software, you are then able to join a \"pool\" which is a group of miners that work together to solve a particular block  (Wikipedia). Once you are part of that group, you are able to set up a wallet on your computer and you are good to go. Purchasing cryptocurrency is also readily available on most platforms and typically involves less privacy concerns because your personal information does not get sent to a third party merchant. Thus, there is a higher likelyhood that your personal financial information is safe"
   ]
  },
  {
   "cell_type": "markdown",
   "id": "73a35a21-153a-4b1d-8ae5-27ab36ede0df",
   "metadata": {},
   "source": [
    "### GPU demand has increased in recent years"
   ]
  },
  {
   "cell_type": "markdown",
   "id": "faabe086-c233-412b-a2d0-b02a23468100",
   "metadata": {},
   "source": [
    "Cryptomining has had a direct impact on the surge of prices of graphics cards. It has been reported that many miners have been buying mid-range graphics cards in bulk to build machines that mine bitcoin and other cryptocurrencies (Warren, 2018). Hence, we conclude that for individuals with lower socio-economic standing, it is more difficult to participate in the mining process. "
   ]
  },
  {
   "cell_type": "markdown",
   "id": "9fb7afcb-d368-465a-8a2c-43eff6ca18e5",
   "metadata": {},
   "source": [
    "- https://www.techspot.com/article/2257-cpu-gpu-pricing-2021-update/\n",
    "- https://www.theverge.com/2018/1/30/16949550/bitcoin-graphics-cards-pc-prices-surge"
   ]
  },
  {
   "cell_type": "markdown",
   "id": "c355751d-de33-4499-9b9b-b0e40a136c43",
   "metadata": {},
   "source": [
    "### Profitability of cryptomining"
   ]
  },
  {
   "cell_type": "markdown",
   "id": "c29a9ae3-12ea-44f2-bf93-a3628ce668f4",
   "metadata": {},
   "source": [
    "For most cryptosystems, the profitability of mining comes from succesfully adding a new block to the block chain. Due to the immense resources required to do this, the algorithm rewards the miner with \"coins\" that are worth a monitary value. While many different algorithms exist depending on the coin, they always involve some kind of hash functions that is easy to verify but difficult to check. Since the prices of GPUs have gone up in recent years, it can be challenging to turn a profit from rewards. It is also unclear whether a user should peform mining individually or whether they should join a pool. On one hand, a pool could potentially allow you to guarentee that you are succesfully validating new blocks but individual mining allows you to maximize profits. Furthermore, profitability is also governed by the monitary value of the currency which is heavily volatile. "
   ]
  },
  {
   "cell_type": "markdown",
   "id": "1162d431-54f7-4e36-a386-b9698d3dccc7",
   "metadata": {},
   "source": [
    "***"
   ]
  },
  {
   "cell_type": "markdown",
   "id": "c47c85f6-1800-4ac3-b2c6-717b1f247b47",
   "metadata": {},
   "source": [
    "# Implications"
   ]
  },
  {
   "cell_type": "markdown",
   "id": "4dd892f9-efb6-40e5-aef3-1f9fafc49b59",
   "metadata": {},
   "source": [
    "One of the problems with this project was that I did not allocate enough time into the data analysis and so I relied on previously existing studies that helped support my claims. Hence, I was not able to make any \"new\" findings and the project became more of a survey of a multitude of academic articles. In my plan, I wanted to display visuals of my findings but I was unable to because of time constraints. \n",
    "\n",
    "The research showed that the cryptoindustry is more accessible than I had initially assumed. The mathematical theory behind how cryptosystems work is interesting for me but not necessary to perform transactions or become a miner. My hypothesis was partially supported because it is harder for individuals to acquire the hardware to become successful miners. However, for people who only wish to buy and trade crypto, services exist which allow you to buy a fraction of coins for any value. Because transactions are fairly quick and your privacy isn't compromised, it is beneficial to use cryptocurrency is a way to purchase goods and services. However, due to the volatile nature of the prices, for individuals with a lower socio-economic background, it is important to not place all liquid assets in this system since it is governed by demand alone. While it is profitable now, it is unclear whether it will stay that way. \n",
    "\n",
    "I was more ambitious in my project plan when I formulated my previous research question. However, I found it hard to find datat to support my claims and I instead had to narrow the scope to a topic that has more numerical data (socio-economic standing). "
   ]
  },
  {
   "cell_type": "markdown",
   "id": "cd218a93-efd4-4b3a-a5b2-69ccbc2fb88f",
   "metadata": {},
   "source": [
    "***"
   ]
  },
  {
   "cell_type": "markdown",
   "id": "561e1de7-63aa-4eb8-8be9-9e32df094772",
   "metadata": {},
   "source": [
    "# Conclusion"
   ]
  },
  {
   "cell_type": "markdown",
   "id": "f2f3ea7c-54be-4697-8534-28d95dfc05c8",
   "metadata": {},
   "source": [
    "In this project, I explored the theory behind decentralized cryptocurrencies and how they utilize complex mathematical functions to secure their coinage. With the advent of mining becoming more popular, we found that being from a higher socio-economic standing is more beneficial to become part of the mining process but performing transactions remains unchanged. "
   ]
  },
  {
   "cell_type": "markdown",
   "id": "ff2c28a2-49ed-4170-b54c-ea7e2ad300f6",
   "metadata": {},
   "source": [
    "***"
   ]
  },
  {
   "cell_type": "markdown",
   "id": "418623bd-d5e4-4e49-bacf-7a3ac9345810",
   "metadata": {},
   "source": [
    "# Possible futher analysis"
   ]
  },
  {
   "cell_type": "markdown",
   "id": "47e9da3b-1e47-4518-9780-b8160ce481a8",
   "metadata": {},
   "source": [
    "Due to personal reasons and time constraints, I was unable to perform a lot of what was listed in my initial plan. Regadless, I do wish to continue with this project for later as I have been experimenting with statistical analysis. In the future, I wish to utilize theoretical dynamic system analysis, which comes from being able to communicate information about the equations and mathematical systems that companies use in their cryptosystem construction. In regards to the analytic methods, I have background in probability theory that I wish to use to simulate possible price trajectories for the future. The Martingale and Monte-carlo simulations are bit of a stretch-goal which I hope to elaborate on when I finish the other parts of the project."
   ]
  },
  {
   "cell_type": "markdown",
   "id": "a9828f77-90d0-454e-bb88-2c53647b0e2a",
   "metadata": {},
   "source": [
    "**Analytic Methods**"
   ]
  },
  {
   "cell_type": "markdown",
   "id": "e95c6764-0f8e-41ee-8175-9e996b671e15",
   "metadata": {},
   "source": [
    "- Statistical analysis through least-squares-regression (via R-Studio on .csv data sets)\n",
    "- Implementing NumPy modules (in Python) to find trends in data sets.\n",
    "- Martingale and Monte-carlo simulations run via PyCharm.\n",
    "- Theoretical dynamic system analysis.\n",
    "- Reading over academic articles relating to research questions"
   ]
  },
  {
   "cell_type": "markdown",
   "id": "492d0777-1e16-4225-8f1b-14ac80725e76",
   "metadata": {},
   "source": [
    "**Presenting findings**"
   ]
  },
  {
   "cell_type": "markdown",
   "id": "1058bab2-2b8f-4641-aa05-d21bdf2f290c",
   "metadata": {},
   "source": [
    "- Academic style report (using overleaf.com LaTeX renderer)\n",
    "- Line graphs showing price trends, with contexualization\n",
    "- Time series graphs"
   ]
  },
  {
   "cell_type": "markdown",
   "id": "3e4e6438-0596-4c74-b4a4-cc15c9fe3b16",
   "metadata": {},
   "source": [
    "***"
   ]
  },
  {
   "cell_type": "markdown",
   "id": "2bba4c03-2710-4b24-b92b-9d6ea2caf4a8",
   "metadata": {},
   "source": [
    "# References"
   ]
  },
  {
   "cell_type": "markdown",
   "id": "aa839d18-7965-4c06-8765-33f3fe5317d3",
   "metadata": {},
   "source": [
    "- Bitcoin arms race\n",
    "    https://ieeexplore.ieee.org/abstract/document/6521016\n",
    "- Introduction to bitcoin and crytocurrency systems\n",
    "    https://repository.upenn.edu/cgi/viewcontent.cgi?article=1133&context=wharton_research_scholars\n",
    "- Survey on GPU stock and prices in 2021\n",
    "    https://wccftech.com/nvidia-and-amd-gpu-supply-will-remain-grim-in-q1-2021/#:~:text=It%20seems%20that%20now%20is%20a%20good%20time,very%20large%20number%20of%20variables%20at%20play%20here.\n",
    "https://poseidon01.ssrn.com/delivery.php\n",
    "- Introduction to DogeCoin\n",
    "    https://poseidon01.ssrn.com/delivery.php?ID=773124118097097113031023086096078065057081049043000029071006125069009064110096091085056017039010001111005112082093089097000006043087058092007069069087089015094089022071021048009066120095090110120113076065113122114110107111096001024091099107110111095125&EXT=pdf&INDEX=TRUE\n",
    "- Survey on GPU prices\n",
    "    https://www.theverge.com/2018/1/30/16949550/bitcoin-graphics-cards-pc-prices-surge\n",
    "- Survey on GPU pricing \n",
    "    https://www.techspot.com/article/2257-cpu-gpu-pricing-2021-update/\n",
    "- Introduction to Cryptocurrency\n",
    "    https://www.coinbase.com/learn/crypto-basics/what-is-cryptocurrency\n",
    "- Introduction to Bitcoin mining\n",
    "    https://www.bitcoinmining.com/getting-started/#:~:text=Bitcoin%20Mining%20Guide%20-%20Getting%20started%20with%20Bitcoin,is%20important%20for%20your%20bitcoin%20mining%20profits.%20\n",
    "- Bitcoin Wikipedia\n",
    "    https://en.wikipedia.org/wiki/Bitcoin"
   ]
  },
  {
   "cell_type": "markdown",
   "id": "7cfb61a4-8f82-40b8-9dad-c328d847fae5",
   "metadata": {},
   "source": [
    "#### Data sets"
   ]
  },
  {
   "cell_type": "markdown",
   "id": "563ea6ea-8685-47af-9623-69d514599ee2",
   "metadata": {},
   "source": [
    "- Bitcoin historic data \n",
    "    https://www.nasdaq.com/market-activity/cryptocurrency/btc/historical\n",
    "- CPU parts data\n",
    "    https://www.kaggle.com/raczeq/ethereum-effect-pc-parts"
   ]
  },
  {
   "cell_type": "code",
   "execution_count": null,
   "id": "08c40809-4c18-49a8-8856-8063a8d31d49",
   "metadata": {},
   "outputs": [],
   "source": []
  }
 ],
 "metadata": {
  "kernelspec": {
   "display_name": "Python 3",
   "language": "python",
   "name": "python3"
  },
  "language_info": {
   "codemirror_mode": {
    "name": "ipython",
    "version": 3
   },
   "file_extension": ".py",
   "mimetype": "text/x-python",
   "name": "python",
   "nbconvert_exporter": "python",
   "pygments_lexer": "ipython3",
   "version": "3.8.8"
  }
 },
 "nbformat": 4,
 "nbformat_minor": 5
}
